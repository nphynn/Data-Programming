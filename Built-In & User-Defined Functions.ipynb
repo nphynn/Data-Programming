{
  "nbformat": 4,
  "nbformat_minor": 0,
  "metadata": {
    "colab": {
      "provenance": []
    },
    "kernelspec": {
      "name": "python3",
      "display_name": "Python 3"
    },
    "language_info": {
      "name": "python"
    }
  },
  "cells": [
    {
      "cell_type": "markdown",
      "source": [
        "##Functions in Python"
      ],
      "metadata": {
        "id": "3_eI5RsoFgWE"
      }
    },
    {
      "cell_type": "markdown",
      "source": [
        "Built-in Functions"
      ],
      "metadata": {
        "id": "UcShWa__F3rZ"
      }
    },
    {
      "cell_type": "code",
      "source": [
        "#function by parenthesis to include the input\n",
        "print(\"This is an example\")"
      ],
      "metadata": {
        "id": "g4if9rIBF7ej"
      },
      "execution_count": null,
      "outputs": []
    },
    {
      "cell_type": "code",
      "source": [
        "round(1.67)\n",
        "round(1.6667, 2) #the 2 indicate how much after decimal\n",
        "\n",
        "# can save as a varibale\n",
        "result = round(1.66667, 2)\n",
        "result + 1"
      ],
      "metadata": {
        "id": "YAXm2W9nF__2"
      },
      "execution_count": null,
      "outputs": []
    },
    {
      "cell_type": "code",
      "source": [
        "##min() and max()\n",
        "list1 = [3,1,4,5]\n",
        "min(list1)\n",
        "\n",
        "min([3,1,4,5])\n",
        "max(list1)"
      ],
      "metadata": {
        "id": "LY9UL_fUGq0g"
      },
      "execution_count": null,
      "outputs": []
    },
    {
      "cell_type": "code",
      "source": [
        "type(list1) #very common and should use when just getting data\n",
        "type({3,1})\n",
        "type(1)"
      ],
      "metadata": {
        "id": "omZ4K8ewG8pY"
      },
      "execution_count": null,
      "outputs": []
    },
    {
      "cell_type": "code",
      "source": [
        "##conversion functions\n",
        "a = 2\n",
        "type(a)\n",
        "\n",
        "type(str(a)) #convert interger into a string\n",
        "\n",
        "a = float(a)\n",
        "type(a)"
      ],
      "metadata": {
        "id": "YqCcYA5oHS3z"
      },
      "execution_count": null,
      "outputs": []
    },
    {
      "cell_type": "markdown",
      "source": [
        "User-defined Functions"
      ],
      "metadata": {
        "id": "uSwCBFtLF12q"
      }
    },
    {
      "cell_type": "code",
      "source": [
        "def sumOddPosNums(inputList):\n",
        "  '''\n",
        "  This function sums up numbers at odd positions given a list\n",
        "  input:list\n",
        "  output: number(int/float)\n",
        "  '''\n",
        "  sum = 0\n",
        "  #traverse through the list update the sum (iteration/loop)\n",
        "  for i in range(len(inputList)): #i= 0,1,2...,len(inputList)-1. i means range\n",
        "    if i%2 == 0: ##when index is even: the element is at the odd position\n",
        "      sum = sum + inputList[i] #update the sum by adding the element at the odd position\n",
        "  return sum #output the final result"
      ],
      "metadata": {
        "id": "azsij1MAIUuC"
      },
      "execution_count": null,
      "outputs": []
    },
    {
      "cell_type": "code",
      "source": [
        "list1 = [1,5,6,10,12]\n",
        "sumOddPosNums(list1)"
      ],
      "metadata": {
        "id": "AcnLsx0jH1gZ"
      },
      "execution_count": null,
      "outputs": []
    },
    {
      "cell_type": "code",
      "source": [
        "sumNum = sumOddPosNums(list1)\n",
        "sumNum"
      ],
      "metadata": {
        "id": "pvakjvjlH1lk"
      },
      "execution_count": null,
      "outputs": []
    },
    {
      "cell_type": "code",
      "source": [
        "def sumEvenPosNums(inputList):\n",
        "  '''\n",
        "  This function sums up numbers at odd positions given a list\n",
        "  input:list\n",
        "  output: number(int/float)\n",
        "  '''\n",
        "  sum = 0\n",
        "  #traverse through the list update the sum (iteration/loop)\n",
        "  for i in range(len(inputList)): #i= 0,1,2...,len(inputList)-1. i means range\n",
        "    if i%2 == 1: ##when index is even: the element is at the odd position/ % is the reminder\n",
        "      sum = sum + inputList[i] #update the sum by adding the element at the odd position\n",
        "  return sum #output the final result"
      ],
      "metadata": {
        "id": "fLC1MUWqK9s5"
      },
      "execution_count": null,
      "outputs": []
    },
    {
      "cell_type": "code",
      "source": [
        "sumEvenPosNums(list1)"
      ],
      "metadata": {
        "id": "aZaN-P3yLEi6"
      },
      "execution_count": null,
      "outputs": []
    },
    {
      "cell_type": "code",
      "source": [
        "7%3 #becuase the reminder is 1"
      ],
      "metadata": {
        "id": "t3VzwITdL09C"
      },
      "execution_count": null,
      "outputs": []
    },
    {
      "cell_type": "code",
      "source": [
        "def removeDuplicates(inputList):\n",
        "  '''\n",
        "  This function will remove duplicates in a list while keeping the original order\n",
        "  input: list\n",
        "  output: list\n",
        "  '''\n",
        "  resultList = []\n",
        "\n",
        "  #traverse through the item in the inputlist and update the resultList\n",
        "  for item in inputList:\n",
        "    if item not in resultList:\n",
        "      resultList.append(item)\n",
        "\n",
        "  return resultList #output the result list"
      ],
      "metadata": {
        "id": "_IPKn_fDNSLz"
      },
      "execution_count": null,
      "outputs": []
    },
    {
      "cell_type": "code",
      "source": [
        "list1 = [3,4,4,2,1]\n",
        "removeDuplicates(list1)"
      ],
      "metadata": {
        "id": "duKW0Pk6Nn7t"
      },
      "execution_count": null,
      "outputs": []
    },
    {
      "cell_type": "code",
      "source": [
        "def removeDuplicates(inputList):\n",
        "  '''\n",
        "  This function will remove duplicates in a list while keeping the original order\n",
        "  input: list\n",
        "  output: list\n",
        "  '''\n",
        "  resultList = []\n",
        "\n",
        "  print('intitial resultList:',resultList)\n",
        "  #traverse through the item in the inputlist and update the resultList\n",
        "  for item in inputList:\n",
        "    print(\"item is \", item)\n",
        "    if item not in resultList:\n",
        "      print(\"item not in result list\")\n",
        "      resultList.append(item)\n",
        "      print(\"current result list:\", resultList)\n",
        "\n",
        "    print('Done of traverse.')\n",
        "\n",
        "  return resultList #output the result list"
      ],
      "metadata": {
        "id": "uobvcTKVL-EU"
      },
      "execution_count": null,
      "outputs": []
    },
    {
      "cell_type": "code",
      "source": [
        "list1 = [3,4,4,2,1]\n",
        "removeDuplicates(list1)\n",
        "\n",
        "list(set(list1)) #if you do not care about the order it will give a order"
      ],
      "metadata": {
        "id": "VfZKYiDNMPFm"
      },
      "execution_count": null,
      "outputs": []
    },
    {
      "cell_type": "markdown",
      "source": [
        "##Functions in R"
      ],
      "metadata": {
        "id": "99-fjgEjFm3Q"
      }
    },
    {
      "cell_type": "code",
      "source": [
        "#always load in extension\n",
        "!pip install rpy2==3.5.1\n",
        "%load_ext rpy2.ipython"
      ],
      "metadata": {
        "id": "0bT7v0w3GymK"
      },
      "execution_count": null,
      "outputs": []
    },
    {
      "cell_type": "markdown",
      "source": [
        "Built-in Functions"
      ],
      "metadata": {
        "id": "F895if7OFsxp"
      }
    },
    {
      "cell_type": "code",
      "source": [
        "%%R\n",
        "\n",
        "a = 1.0 #for 1 and 1.0 its the same\n",
        "typeof(a)"
      ],
      "metadata": {
        "id": "MVwArUniMFMD"
      },
      "execution_count": null,
      "outputs": []
    },
    {
      "cell_type": "code",
      "source": [
        "%%R\n",
        "\n",
        "x = 1.67\n",
        "round(x, 1)"
      ],
      "metadata": {
        "id": "u264AWnQP6yN"
      },
      "execution_count": null,
      "outputs": []
    },
    {
      "cell_type": "code",
      "source": [
        "%%R\n",
        "\n",
        "toString(x)\n",
        "str(x)\n",
        "as.integer(x)"
      ],
      "metadata": {
        "id": "QT4Mk3YzP63Y"
      },
      "execution_count": null,
      "outputs": []
    },
    {
      "cell_type": "markdown",
      "source": [
        "User-defined Functions"
      ],
      "metadata": {
        "id": "Ru8fWnWAFveT"
      }
    },
    {
      "cell_type": "code",
      "source": [
        "%%R\n",
        "\n",
        "sumOddPosNums <- function(inputList){\n",
        "  sum = 0\n",
        "  len = length(inputList)\n",
        "\n",
        "  for(i in seq(from = 1, to = len, by = 1)){\n",
        "    if(i%%2 == 1){    #1 is for odd and also you use two %%\n",
        "    sum = sum + inputList[i]\n",
        "    }\n",
        "}\n",
        "return(sum)\n",
        "}"
      ],
      "metadata": {
        "id": "dIkA7T1pQd9v"
      },
      "execution_count": null,
      "outputs": []
    },
    {
      "cell_type": "code",
      "source": [
        "%%R\n",
        "\n",
        "list1 = c(1,5,10,12) #need to use c for list with R\n",
        "sumOddPosNums(list1)"
      ],
      "metadata": {
        "id": "Q6NB3hq7QeBW"
      },
      "execution_count": null,
      "outputs": []
    },
    {
      "cell_type": "code",
      "source": [
        "%%R\n",
        "\n",
        "list2 = c(0,2,1,5,2)\n",
        "sumOddPosNums(list2)"
      ],
      "metadata": {
        "id": "cJADhs0MQeFO"
      },
      "execution_count": null,
      "outputs": []
    }
  ]
}