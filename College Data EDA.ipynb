{
  "nbformat": 4,
  "nbformat_minor": 0,
  "metadata": {
    "colab": {
      "provenance": []
    },
    "kernelspec": {
      "name": "python3",
      "display_name": "Python 3"
    },
    "language_info": {
      "name": "python"
    }
  },
  "cells": [
    {
      "cell_type": "code",
      "execution_count": null,
      "metadata": {
        "id": "i1MaBOHzWPFp"
      },
      "outputs": [],
      "source": [
        "!pip install rpy2==3.5.1\n",
        "%load_ext rpy2.ipython"
      ]
    },
    {
      "cell_type": "code",
      "source": [
        "import pandas as pd\n",
        "import numpy as np"
      ],
      "metadata": {
        "id": "vaVJm9sMYDGR"
      },
      "execution_count": null,
      "outputs": []
    },
    {
      "cell_type": "code",
      "source": [
        "college = pd.read_csv('sample_data/collegeDataset.csv')\n",
        "college\n",
        "df = pd.DataFrame(college)"
      ],
      "metadata": {
        "id": "SPSV1lWfW0s2"
      },
      "execution_count": null,
      "outputs": []
    },
    {
      "cell_type": "code",
      "source": [
        "df.describe(include = 'all')"
      ],
      "metadata": {
        "id": "2pgz25CaYTry"
      },
      "execution_count": null,
      "outputs": []
    },
    {
      "cell_type": "code",
      "source": [
        "df.Accept.value_counts()/len(df)"
      ],
      "metadata": {
        "id": "4M1Y1uw9dTNO"
      },
      "execution_count": null,
      "outputs": []
    },
    {
      "cell_type": "code",
      "source": [
        "fig = df.plot.bar('Apps', 'Private')\n",
        "plt.show()"
      ],
      "metadata": {
        "id": "SIu_Be5hejX_"
      },
      "execution_count": null,
      "outputs": []
    }
  ]
}