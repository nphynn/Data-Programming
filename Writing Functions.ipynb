{
  "nbformat": 4,
  "nbformat_minor": 0,
  "metadata": {
    "colab": {
      "provenance": []
    },
    "kernelspec": {
      "name": "python3",
      "display_name": "Python 3"
    },
    "language_info": {
      "name": "python"
    }
  },
  "cells": [
    {
      "cell_type": "markdown",
      "source": [
        "PYTHON"
      ],
      "metadata": {
        "id": "rUZhBy10LjEx"
      }
    },
    {
      "cell_type": "code",
      "source": [
        "def sumEvenPosNums(inputList):\n",
        "    '''\n",
        "    This function sums up numbers at even positions given a list\n",
        "    input:list\n",
        "    output: number(int/float)\n",
        "   '''\n",
        "    sum = 0\n",
        "    for i in range(len(inputList)):\n",
        "      if i%2 == 1:\n",
        "        sum = sum + inputList[i]\n",
        "    return sum #output the final result"
      ],
      "metadata": {
        "id": "ZJ7EdADqLdBR"
      },
      "execution_count": null,
      "outputs": []
    },
    {
      "cell_type": "code",
      "source": [
        "inputList = [3,2,6,8]\n",
        "print(sumEvenPosNums(inputList))"
      ],
      "metadata": {
        "id": "u0usDhSXOoda"
      },
      "execution_count": null,
      "outputs": []
    },
    {
      "cell_type": "code",
      "source": [
        "inputList = [3,4,6,10]\n",
        "print(sumEvenPosNums(inputList))"
      ],
      "metadata": {
        "id": "nGp61FLAjysj"
      },
      "execution_count": null,
      "outputs": []
    },
    {
      "cell_type": "code",
      "source": [
        "def indices(inputlist2,target):\n",
        "\n",
        "  indexreturn = {} #Value and indicies storage\n",
        "\n",
        "  for i, num in enumerate(inputlist2): #Iterate list\n",
        "    if target - num in indexreturn: # Checking if values in list\n",
        "      return[indexreturn[target-num], i] #Returning the list\n",
        "    indexreturn[num] = i #if not adding it to the list\n",
        "\n",
        "  return[] #Return empty if nothing is found"
      ],
      "metadata": {
        "id": "7yot4AkbLshc"
      },
      "execution_count": null,
      "outputs": []
    },
    {
      "cell_type": "code",
      "source": [
        "inputlist2 = [6,4,3,1]\n",
        "target = 5\n",
        "output = indices(inputlist2,target)\n",
        "print(output)"
      ],
      "metadata": {
        "id": "bJGhK2jHNNf0"
      },
      "execution_count": null,
      "outputs": []
    },
    {
      "cell_type": "markdown",
      "source": [
        "R"
      ],
      "metadata": {
        "id": "D6R3NnKWLiBV"
      }
    },
    {
      "cell_type": "code",
      "source": [
        "!pip install rpy2==3.5.1\n",
        "%load_ext rpy2.ipython"
      ],
      "metadata": {
        "id": "Biwnc0yJHHxw"
      },
      "execution_count": null,
      "outputs": []
    },
    {
      "cell_type": "code",
      "source": [
        "%%R\n",
        "\n",
        "sumevenr <- function(inputList1){\n",
        "  sum = 0\n",
        "  len = length(inputList1)\n",
        "\n",
        "  for(i in seq(from = 1, to = len, by = 1)){\n",
        "    if(i%%2 == 0){\n",
        "      sum = sum + inputList1[i]\n",
        "      }\n",
        "}\n",
        "\n",
        "return(sum)\n",
        "\n",
        "}"
      ],
      "metadata": {
        "id": "QrlxMWfeHcgD"
      },
      "execution_count": null,
      "outputs": []
    },
    {
      "cell_type": "code",
      "source": [
        "%%R\n",
        "\n",
        "inputList1 <- c(1,5,10,12)\n",
        "sumevenr(inputList1)"
      ],
      "metadata": {
        "id": "bhavteidLrGS"
      },
      "execution_count": null,
      "outputs": []
    },
    {
      "cell_type": "code",
      "source": [
        "%%R\n",
        "\n",
        "twosumr <- function(inputlist3,target1) {\n",
        "  legth <- length(inputlist3)\n",
        "  for (i in 1:(legth-1)) {\n",
        "    for (j in (i+1):legth) {\n",
        "      if(inputlist3[i] + inputlist3[j] == target1) {\n",
        "        return(c(i,j))\n",
        "      }\n",
        "    }\n",
        "  }\n",
        "  return(NULL)\n",
        "}"
      ],
      "metadata": {
        "id": "WrA7dzlNLtcS"
      },
      "execution_count": null,
      "outputs": []
    },
    {
      "cell_type": "code",
      "source": [
        "%%R\n",
        "\n",
        "inputlist3 <- c(1,5,10,12,15,25)\n",
        "target <- 40\n",
        "output2 <- twosumr(inputlist3,target)\n",
        "print(output2)"
      ],
      "metadata": {
        "id": "hTC7Z5g9QAQg"
      },
      "execution_count": null,
      "outputs": []
    }
  ]
}