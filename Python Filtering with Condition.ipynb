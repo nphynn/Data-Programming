{
  "nbformat": 4,
  "nbformat_minor": 0,
  "metadata": {
    "colab": {
      "provenance": []
    },
    "kernelspec": {
      "name": "python3",
      "display_name": "Python 3"
    },
    "language_info": {
      "name": "python"
    }
  },
  "cells": [
    {
      "cell_type": "code",
      "source": [
        "# Given list of numbers\n",
        "numbers = [12, 75, 130, 180, 145, 525, 50]\n",
        "\n",
        "# Iterate through each number in the list\n",
        "for num in numbers:\n",
        "    # Check if the number is greater than 150 and smaller or equal to 500\n",
        "    if 150 < num <= 500:\n",
        "        print(num)\n",
        "    # Check if the number is greater than 500\n",
        "    elif num > 500:\n",
        "        print(num)\n",
        "        print(num ** 2)  # Print the square of the number"
      ],
      "metadata": {
        "id": "s6BWvF6JtLwn"
      },
      "execution_count": null,
      "outputs": []
    }
  ]
}