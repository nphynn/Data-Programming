{
  "nbformat": 4,
  "nbformat_minor": 0,
  "metadata": {
    "colab": {
      "provenance": []
    },
    "kernelspec": {
      "name": "python3",
      "display_name": "Python 3"
    },
    "language_info": {
      "name": "python"
    }
  },
  "cells": [
    {
      "cell_type": "code",
      "source": [
        "!pip install SQLAlchemy==1.4.39\n",
        "%load_ext sql\n",
        "%sql sqlite://"
      ],
      "metadata": {
        "id": "H9QnqaI-2PJK"
      },
      "execution_count": null,
      "outputs": []
    },
    {
      "cell_type": "code",
      "source": [
        "%%sql\n",
        "\n",
        "CREATE TABLE IF NOT EXISTS employees(employee_num integer,\n",
        "                                    last_name text,\n",
        "                                    first_name text,\n",
        "                                    salary text,\n",
        "                                    dept_id integer,\n",
        "                                    age integer);\n",
        "CREATE TABLE IF NOT EXISTS managers(mgr_num integer,\n",
        "                                    last_name text,\n",
        "                                    first_name text,\n",
        "                                    salary text,\n",
        "                                    dept_id integer,\n",
        "                                    age integer);"
      ],
      "metadata": {
        "id": "TFvuwlA227KJ"
      },
      "execution_count": null,
      "outputs": []
    },
    {
      "cell_type": "code",
      "source": [
        "%%sql\n",
        "\n",
        "INSERT INTO employees VALUES(1001, 'Smith','John', 62000, 500,32);\n",
        "INSERT INTO employees VALUES(1002, 'Anderson','Jane', 87500, 500,40);\n",
        "INSERT INTO employees VALUES(1003, 'Everest','Brad', 71000, 501,26);\n",
        "INSERT INTO employees VALUES(1004, 'Horvath','Brain', 62000, 501,44);\n",
        "\n",
        "INSERT INTO managers VALUES(101, 'White','Jonathan', 152000, 500,38);\n",
        "INSERT INTO managers VALUES(102, 'Smith','Paul', 120000, 501,40);\n",
        "INSERT INTO managers VALUES(103, 'Cowgill','Richard', 150000, 502,50);"
      ],
      "metadata": {
        "id": "p-sTXNuG29Pd"
      },
      "execution_count": null,
      "outputs": []
    },
    {
      "cell_type": "code",
      "source": [
        "##Display employees older than 30 years old (expected output: last_name, first_name, age)\n",
        "%%sql\n",
        "\n",
        "select last_name, first_name, age\n",
        "from employees\n",
        "where age> 30;"
      ],
      "metadata": {
        "id": "LHAgd33g1cI1"
      },
      "execution_count": null,
      "outputs": []
    },
    {
      "cell_type": "code",
      "source": [
        "##Display employees whose first names end in “n”( expected output: last_name, first_name)\n",
        "%%sql\n",
        "\n",
        "select last_name, first_name\n",
        "from employees\n",
        "where first_name like '%n';"
      ],
      "metadata": {
        "id": "hneE4cRV1dRg"
      },
      "execution_count": null,
      "outputs": []
    },
    {
      "cell_type": "code",
      "source": [
        "##Find managers make more than $130k and less than $160k. (expected output: last_name, first_name, salary)\n",
        "%%sql\n",
        "\n",
        "select last_name, first_name, salary\n",
        "from managers\n",
        "where salary >  130000 AND salary < 160000;"
      ],
      "metadata": {
        "id": "KIuircb61dZg"
      },
      "execution_count": null,
      "outputs": []
    },
    {
      "cell_type": "code",
      "source": [
        "##Find employees older than his/her manager (expected output: emp_LastName, emp_FirstName, mgr_LastName, mgr_FirstName, ageDiff) Hint: ageDiff = employees.age – managers.age\n",
        "%%sql\n",
        "\n",
        "select e.first_name as emp_firstName, e.last_name as emp_lastName, m.first_name as  mgr_firstName,\n",
        "       m.last_name as magr_lastName, e.age-m.age as ageDiff\n",
        "from employees e, managers m\n",
        "where e.age > m.age;"
      ],
      "metadata": {
        "id": "YaSIO0WI1dd8"
      },
      "execution_count": null,
      "outputs": []
    }
  ]
}